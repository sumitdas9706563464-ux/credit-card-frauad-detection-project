{
 "cells": [
  {
   "cell_type": "code",
   "execution_count": 1,
   "id": "2d84edaf",
   "metadata": {},
   "outputs": [
    {
     "name": "stdout",
     "output_type": "stream",
     "text": [
      "✅ Fast Visualizations created and saved inside 'credit/docs/' folder.\n"
     ]
    }
   ],
   "source": [
    "import pandas as pd\n",
    "import matplotlib.pyplot as plt\n",
    "import seaborn as sns\n",
    "import numpy as np\n",
    "import os\n",
    "\n",
    "def create_visualizations(df, save_dir):\n",
    "    # Ensure save directory exists\n",
    "    os.makedirs(save_dir, exist_ok=True)\n",
    "\n",
    "    sns.set_style(\"whitegrid\")\n",
    "\n",
    "    # Visualize numerical columns\n",
    "    for col in df.select_dtypes(include=np.number).columns:\n",
    "        plt.figure(figsize=(10, 6))\n",
    "        sns.histplot(df[col], bins=50)   # removed kde=True, limited bins\n",
    "        plt.title(f\"Distribution of {col}\")\n",
    "        plt.savefig(os.path.join(save_dir, f\"{col}_distribution.png\"))\n",
    "        plt.close()\n",
    "\n",
    "    # Visualize categorical columns\n",
    "    for col in df.select_dtypes(include=object).columns:\n",
    "        plt.figure(figsize=(10, 6))\n",
    "        sns.countplot(y=col, data=df, order=df[col].value_counts().index[:20])  # show top 20 categories\n",
    "        plt.title(f\"Distribution of {col}\")\n",
    "        plt.savefig(os.path.join(save_dir, f\"{col}_distribution.png\"))\n",
    "        plt.close()\n",
    "\n",
    "    # Spending patterns by merchant\n",
    "    if 'merchant' in df.columns and 'amount' in df.columns:\n",
    "        plt.figure(figsize=(12, 8))\n",
    "        sns.boxplot(x='merchant', y='amount', data=df.sample(n=2000) if len(df) > 2000 else df)  # sample max 2000 rows\n",
    "        plt.title(\"Spending Patterns by Merchant\")\n",
    "        plt.xticks(rotation=45)\n",
    "        plt.savefig(os.path.join(save_dir, \"spending_by_merchant.png\"))\n",
    "        plt.close()\n",
    "\n",
    "    # Customer demographics: Age vs. Income\n",
    "    if 'age' in df.columns and 'income' in df.columns and 'gender' in df.columns:\n",
    "        plt.figure(figsize=(12, 8))\n",
    "        sns.scatterplot(x='age', y='income', hue='gender',\n",
    "                        data=df.sample(n=3000) if len(df) > 3000 else df, alpha=0.5)\n",
    "        plt.title(\"Customer Demographics: Age vs. Income\")\n",
    "        plt.savefig(os.path.join(save_dir, \"age_vs_income.png\"))\n",
    "        plt.close()\n",
    "\n",
    "    # Correlation matrix\n",
    "    plt.figure(figsize=(12, 10))\n",
    "    corr = df.select_dtypes(include=np.number).corr()\n",
    "    sns.heatmap(corr, cmap='coolwarm', fmt='.2f')  # removed annot=True for speed\n",
    "    plt.title(\"Correlation Matrix\")\n",
    "    plt.savefig(os.path.join(save_dir, \"correlation_matrix.png\"))\n",
    "    plt.close()\n",
    "\n",
    "\n",
    "# ✅ Paths\n",
    "file_path = r\"C:\\Users\\ajroy\\OneDrive\\Desktop\\mypython.py\\git practice\\credit-card-frauad-detection-project\\data\\credit_card_transactions.csv\"\n",
    "save_dir = r\"C:\\Users\\ajroy\\OneDrive\\Desktop\\mypython.py\\git practice\\credit-card-frauad-detection-project\\docs\"\n",
    "\n",
    "# Load data & create visualizations\n",
    "df = pd.read_csv(file_path)\n",
    "create_visualizations(df, save_dir)\n",
    "\n",
    "print(\"✅ Fast Visualizations created and saved inside 'credit/docs/' folder.\")\n"
   ]
  }
 ],
 "metadata": {
  "kernelspec": {
   "display_name": "Python 3",
   "language": "python",
   "name": "python3"
  },
  "language_info": {
   "codemirror_mode": {
    "name": "ipython",
    "version": 3
   },
   "file_extension": ".py",
   "mimetype": "text/x-python",
   "name": "python",
   "nbconvert_exporter": "python",
   "pygments_lexer": "ipython3",
   "version": "3.13.5"
  }
 },
 "nbformat": 4,
 "nbformat_minor": 5
}
