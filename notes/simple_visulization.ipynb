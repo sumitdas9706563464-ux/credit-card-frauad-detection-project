{
 "cells": [
  {
   "cell_type": "code",
   "execution_count": 3,
   "id": "ffc80ee9",
   "metadata": {},
   "outputs": [
    {
     "name": "stdout",
     "output_type": "stream",
     "text": [
      "Columns in dataset:\n",
      " Index(['transaction_id', 'customer_id', 'date', 'amount', 'card_type',\n",
      "       'merchant', 'is_fraud', 'age', 'gender', 'income'],\n",
      "      dtype='object')\n"
     ]
    },
    {
     "data": {
      "text/plain": [
       "<Figure size 600x600 with 0 Axes>"
      ]
     },
     "metadata": {},
     "output_type": "display_data"
    }
   ],
   "source": [
    "import pandas as pd\n",
    "import matplotlib.pyplot as plt\n",
    "import seaborn as sns\n",
    "\n",
    "# Load dataset\n",
    "df = pd.read_csv(\"C:\\\\Users\\\\ajroy\\\\OneDrive\\\\Desktop\\\\mypython.py\\\\git practice\\\\credit-card-frauad-detection-project\\\\data\\\\credit_card_transactions.csv\")\n",
    "\n",
    "# Check available columns\n",
    "print(\"Columns in dataset:\\n\", df.columns)\n",
    "\n",
    "# Set default style\n",
    "plt.style.use('default')\n",
    "\n",
    "# ---------------------------\n",
    "# 1. Distribution of Transaction Amounts\n",
    "# ---------------------------\n",
    "plt.figure(figsize=(10, 6))\n",
    "plt.hist(df['amount'], bins=50, alpha=0.7, color='skyblue', edgecolor='black')\n",
    "plt.title('Distribution of Transaction Amounts')\n",
    "plt.xlabel('Amount')\n",
    "plt.ylabel('Frequency')\n",
    "plt.savefig(\"C:\\\\Users\\\\ajroy\\\\OneDrive\\\\Desktop\\\\mypython.py\\\\git practice\\\\credit-card-frauad-detection-project\\\\docs\\\\amount_distribution.png\")\n",
    "plt.close()\n",
    "\n",
    "# ---------------------------\n",
    "# 2. Fraud vs Normal Transactions\n",
    "# ---------------------------\n",
    "plt.figure(figsize=(6, 6))\n",
    "fraud_counts = df['is_fraud'].value_counts()\n",
    "\n"
   ]
  }
 ],
 "metadata": {
  "kernelspec": {
   "display_name": "Python 3",
   "language": "python",
   "name": "python3"
  },
  "language_info": {
   "codemirror_mode": {
    "name": "ipython",
    "version": 3
   },
   "file_extension": ".py",
   "mimetype": "text/x-python",
   "name": "python",
   "nbconvert_exporter": "python",
   "pygments_lexer": "ipython3",
   "version": "3.13.5"
  }
 },
 "nbformat": 4,
 "nbformat_minor": 5
}
