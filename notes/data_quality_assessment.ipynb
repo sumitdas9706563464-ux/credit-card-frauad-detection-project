{
 "cells": [
  {
   "cell_type": "code",
   "execution_count": null,
   "id": "e5862e87",
   "metadata": {},
   "outputs": [
    {
     "name": "stdout",
     "output_type": "stream",
     "text": [
      "\n",
      "--- Data Quality Assessment ---\n",
      "\n",
      "Missing values per column:\n",
      "id        0\n",
      "V1        0\n",
      "V2        0\n",
      "V3        0\n",
      "V4        0\n",
      "V5        0\n",
      "V6        0\n",
      "V7        0\n",
      "V8        0\n",
      "V9        0\n",
      "V10       0\n",
      "V11       0\n",
      "V12       0\n",
      "V13       0\n",
      "V14       0\n",
      "V15       0\n",
      "V16       0\n",
      "V17       0\n",
      "V18       0\n",
      "V19       0\n",
      "V20       0\n",
      "V21       0\n",
      "V22       0\n",
      "V23       0\n",
      "V24       0\n",
      "V25       0\n",
      "V26       0\n",
      "V27       0\n",
      "V28       0\n",
      "Amount    0\n",
      "Class     0\n",
      "dtype: int64\n"
     ]
    }
   ],
   "source": [
=======
   "execution_count": 1,
   "id": "95031dc0",
   "metadata": {},
   "outputs": [],
   "source": [
    "\n",
>>>>>>> cfd1c7d77d3a77274825de99bcf3f0344b82c9e4
    "import pandas as pd\n",
    "import numpy as np\n",
    "\n",
    "def perform_data_quality_assessment(df):\n",
    "    print(\"\\n--- Data Quality Assessment ---\")\n",
    "    \n",
    "    # Check for missing values\n",
    "    print(\"\\nMissing values per column:\")\n",
    "    print(df.isnull().sum())\n",
    "\n",
    "    # Check for duplicate rows\n",
    "    print(\"\\nNumber of duplicate rows:\", df.duplicated().sum())\n",
    "\n",
    "    # Check data types\n",
    "    print(\"\\nData types:\")\n",
    "    print(df.dtypes)\n",
    "\n",
    "    # Identify outliers (simple example for 'amount' using IQR)\n",
<<<<<<< HEAD
    "    if \"amount\" in df.columns:\n",
    "        Q1 = df[\"amount\"].quantile(0.25)\n",
    "        Q3 = df[\"amount\"].quantile(0.75)\n",
    "        IQR = Q3 - Q1\n",
    "        outlier_threshold_upper = Q3 + 1.5 * IQR\n",
    "        outlier_threshold_lower = Q1 - 1.5 * IQR\n",
    "        outliers = df[(df[\"amount\"] < outlier_threshold_lower) | (df[\"amount\"] > outlier_threshold_upper)]\n",
    "        print(f\"\\nNumber of outliers in 'amount' column (using IQR): {len(outliers)}\")\n",
    "        print(\"Outlier examples (first 5 rows):\\n\", outliers.head())\n",
    "    else:\n",
    "        print(\"\\nColumn 'amount' not found in the dataset. Skipping outlier detection.\")\n",
=======
    "    Q1 = df[\"amount\"].quantile(0.25)\n",
    "    Q3 = df[\"amount\"].quantile(0.75)\n",
    "    IQR = Q3 - Q1\n",
    "    outlier_threshold_upper = Q3 + 1.5 * IQR\n",
    "    outlier_threshold_lower = Q1 - 1.5 * IQR\n",
    "    outliers = df[(df[\"amount\"] < outlier_threshold_lower) | (df[\"amount\"] > outlier_threshold_upper)]\n",
    "    print(f\"\\nNumber of outliers in 'amount' column (using IQR): {len(outliers)}\")\n",
    "    print(\"Outlier examples (first 5 rows):\\n\", outliers.head())\n",
>>>>>>> cfd1c7d77d3a77274825de99bcf3f0344b82c9e4
    "\n",
    "    # Calculate descriptive statistics\n",
    "    print(\"\\n--- Descriptive Statistics ---\")\n",
    "    print(df.describe(include='all'))\n",
    "\n",
    "    # Analyze data distributions (for numerical columns)\n",
    "    print(\"\\n--- Data Distributions (Numerical Columns) ---\")\n",
    "    for col in df.select_dtypes(include=np.number).columns:\n",
    "        print(f\"\\nDistribution for {col}:\")\n",
    "        print(df[col].value_counts(bins=10, sort=False))\n",
    "\n",
    "    # Analyze data distributions (for categorical columns)\n",
    "    print(\"\\n--- Data Distributions (Categorical Columns) ---\")\n",
    "    for col in df.select_dtypes(include='object').columns:\n",
    "        print(f\"\\nDistribution for {col}:\")\n",
    "        print(df[col].value_counts())\n",
    "\n",
<<<<<<< HEAD
    "\n",
    "# ===============================\n",
    "# Main execution\n",
    "# ===============================\n",
    "\n",
    "file_path = \"C:\\\\Users\\\\ajroy\\\\OneDrive\\\\Desktop\\\\credit\\\\creditcard_2023.csv\"\n",
    "\n",
    "# Read CSV file\n",
    "df = pd.read_csv(file_path)\n",
    "\n",
    "# Perform data quality assessment\n",
    "perform_data_quality_assessment(df)\n"
=======
    "    file_path = \"C:\\\\Users\\\\ajroy\\\\OneDrive\\\\Desktop\\\\credit\\\\creditcard_2023.csv\"\n",
    "    df = pd.read_csv(file_path)\n",
    "    perform_data_quality_assessment(df)\n",
    "\n",
    "\n"
>>>>>>> cfd1c7d77d3a77274825de99bcf3f0344b82c9e4
   ]
  }
 ],
 "metadata": {
  "kernelspec": {
   "display_name": "Python 3",
   "language": "python",
   "name": "python3"
  },
  "language_info": {
   "codemirror_mode": {
    "name": "ipython",
    "version": 3
   },
   "file_extension": ".py",
   "mimetype": "text/x-python",
   "name": "python",
   "nbconvert_exporter": "python",
   "pygments_lexer": "ipython3",
   "version": "3.13.5"
  }
 },
 "nbformat": 4,
 "nbformat_minor": 5
}
